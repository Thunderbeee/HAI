{
 "cells": [
  {
   "cell_type": "code",
   "execution_count": 35,
   "id": "f7f254d7",
   "metadata": {},
   "outputs": [],
   "source": [
    "import numpy as np\n",
    "import pandas as pd\n",
    "import json, ast"
   ]
  },
  {
   "cell_type": "code",
   "execution_count": 126,
   "id": "d1a00290",
   "metadata": {},
   "outputs": [
    {
     "data": {
      "text/plain": [
       "'/Users/mingyuanma/Desktop'"
      ]
     },
     "execution_count": 126,
     "metadata": {},
     "output_type": "execute_result"
    }
   ],
   "source": [
    "pwd"
   ]
  },
  {
   "cell_type": "code",
   "execution_count": 123,
   "id": "3eafc227",
   "metadata": {},
   "outputs": [],
   "source": [
    "class allaction():\n",
    "    \n",
    "    def __init__(self, file):\n",
    "        self.df = pd.read_csv(file) \n",
    "        self.orderId, self.taskId, self.taskTicks, self.workerId, self.workerTicks = [], [], [], [], []\n",
    "        self.ResponseId, self.Round, self.Tick = [], [], []\n",
    "        \n",
    "    def parse(self):\n",
    "        # all id + 1, leaving 0 to be idle\n",
    "        action = self.df\n",
    "        for i in np.arange(action.shape[0]):\n",
    "            row = action.iloc[i,:]\n",
    "            for act in [\"action1\", \"action2\", \"action3\"]:\n",
    "                # when there is no action in this act\n",
    "                if type(row[act]) != str:\n",
    "                    self.orderId.append(0)\n",
    "                    self.taskId.append(0)\n",
    "                    self.taskTicks.append(0)\n",
    "                    self.workerId.append(0)\n",
    "                    self.workerTicks.append(0)\n",
    "                else:\n",
    "                    a = ast.literal_eval(row[act])\n",
    "                    self.orderId.append(a[\"order_id\"] + 1)\n",
    "                    self.taskId.append(a[\"task_id\"] + 1)\n",
    "                    self.taskTicks.append(a[\"task_ticks\"])\n",
    "                    self.workerId.append(a[\"worker_id\"])\n",
    "                    self.workerTicks.append(a[\"worker_ticks\"])\n",
    "\n",
    "                self.ResponseId.append(row[\"ResponseId\"])\n",
    "                self.Round.append(row[\"round\"])\n",
    "                self.Tick.append(row[\"tick\"])\n",
    "                \n",
    "    def get(self):\n",
    "        self.parse()\n",
    "        d = {\n",
    "            \"ResponseId\": self.ResponseId,\n",
    "            \"round\": self.Round,\n",
    "            \"tick\": self.Tick,\n",
    "            \"orderId\": self.orderId, \n",
    "            \"taskId\": self.taskId, \n",
    "            \"taskTicks\": self.taskTicks, \n",
    "            \"workerId\": self.workerId, \n",
    "            \"workerTicks\": self.workerTicks\n",
    "        }\n",
    "        return pd.DataFrame(d)\n",
    "\n"
   ]
  },
  {
   "cell_type": "code",
   "execution_count": 128,
   "id": "d7d78dab",
   "metadata": {},
   "outputs": [],
   "source": [
    "file1, file2 = \"phase1_action.csv\", \"phase2_action.csv\""
   ]
  },
  {
   "cell_type": "code",
   "execution_count": 129,
   "id": "e09f5d92",
   "metadata": {},
   "outputs": [],
   "source": [
    "action1, action2 = allaction(file1).get(), allaction(file2).get()"
   ]
  },
  {
   "cell_type": "code",
   "execution_count": 131,
   "id": "2b3eb50e",
   "metadata": {},
   "outputs": [
    {
     "data": {
      "text/html": [
       "<div>\n",
       "<style scoped>\n",
       "    .dataframe tbody tr th:only-of-type {\n",
       "        vertical-align: middle;\n",
       "    }\n",
       "\n",
       "    .dataframe tbody tr th {\n",
       "        vertical-align: top;\n",
       "    }\n",
       "\n",
       "    .dataframe thead th {\n",
       "        text-align: right;\n",
       "    }\n",
       "</style>\n",
       "<table border=\"1\" class=\"dataframe\">\n",
       "  <thead>\n",
       "    <tr style=\"text-align: right;\">\n",
       "      <th></th>\n",
       "      <th>ResponseId</th>\n",
       "      <th>round</th>\n",
       "      <th>tick</th>\n",
       "      <th>orderId</th>\n",
       "      <th>taskId</th>\n",
       "      <th>taskTicks</th>\n",
       "      <th>workerId</th>\n",
       "      <th>workerTicks</th>\n",
       "    </tr>\n",
       "  </thead>\n",
       "  <tbody>\n",
       "    <tr>\n",
       "      <th>0</th>\n",
       "      <td>R_0uOsLe6BeLnUee5</td>\n",
       "      <td>1</td>\n",
       "      <td>1</td>\n",
       "      <td>1</td>\n",
       "      <td>1</td>\n",
       "      <td>2</td>\n",
       "      <td>0</td>\n",
       "      <td>0</td>\n",
       "    </tr>\n",
       "    <tr>\n",
       "      <th>1</th>\n",
       "      <td>R_0uOsLe6BeLnUee5</td>\n",
       "      <td>1</td>\n",
       "      <td>1</td>\n",
       "      <td>2</td>\n",
       "      <td>1</td>\n",
       "      <td>2</td>\n",
       "      <td>1</td>\n",
       "      <td>0</td>\n",
       "    </tr>\n",
       "    <tr>\n",
       "      <th>2</th>\n",
       "      <td>R_0uOsLe6BeLnUee5</td>\n",
       "      <td>1</td>\n",
       "      <td>1</td>\n",
       "      <td>0</td>\n",
       "      <td>0</td>\n",
       "      <td>0</td>\n",
       "      <td>0</td>\n",
       "      <td>0</td>\n",
       "    </tr>\n",
       "    <tr>\n",
       "      <th>3</th>\n",
       "      <td>R_0uOsLe6BeLnUee5</td>\n",
       "      <td>1</td>\n",
       "      <td>2</td>\n",
       "      <td>3</td>\n",
       "      <td>1</td>\n",
       "      <td>2</td>\n",
       "      <td>2</td>\n",
       "      <td>0</td>\n",
       "    </tr>\n",
       "    <tr>\n",
       "      <th>4</th>\n",
       "      <td>R_0uOsLe6BeLnUee5</td>\n",
       "      <td>1</td>\n",
       "      <td>2</td>\n",
       "      <td>0</td>\n",
       "      <td>0</td>\n",
       "      <td>0</td>\n",
       "      <td>0</td>\n",
       "      <td>0</td>\n",
       "    </tr>\n",
       "    <tr>\n",
       "      <th>...</th>\n",
       "      <td>...</td>\n",
       "      <td>...</td>\n",
       "      <td>...</td>\n",
       "      <td>...</td>\n",
       "      <td>...</td>\n",
       "      <td>...</td>\n",
       "      <td>...</td>\n",
       "      <td>...</td>\n",
       "    </tr>\n",
       "    <tr>\n",
       "      <th>100561</th>\n",
       "      <td>R_zTlbYwl8ijcujhn</td>\n",
       "      <td>6</td>\n",
       "      <td>33</td>\n",
       "      <td>0</td>\n",
       "      <td>0</td>\n",
       "      <td>0</td>\n",
       "      <td>0</td>\n",
       "      <td>0</td>\n",
       "    </tr>\n",
       "    <tr>\n",
       "      <th>100562</th>\n",
       "      <td>R_zTlbYwl8ijcujhn</td>\n",
       "      <td>6</td>\n",
       "      <td>33</td>\n",
       "      <td>0</td>\n",
       "      <td>0</td>\n",
       "      <td>0</td>\n",
       "      <td>0</td>\n",
       "      <td>0</td>\n",
       "    </tr>\n",
       "    <tr>\n",
       "      <th>100563</th>\n",
       "      <td>R_zTlbYwl8ijcujhn</td>\n",
       "      <td>6</td>\n",
       "      <td>34</td>\n",
       "      <td>4</td>\n",
       "      <td>3</td>\n",
       "      <td>2</td>\n",
       "      <td>1</td>\n",
       "      <td>0</td>\n",
       "    </tr>\n",
       "    <tr>\n",
       "      <th>100564</th>\n",
       "      <td>R_zTlbYwl8ijcujhn</td>\n",
       "      <td>6</td>\n",
       "      <td>34</td>\n",
       "      <td>0</td>\n",
       "      <td>0</td>\n",
       "      <td>0</td>\n",
       "      <td>0</td>\n",
       "      <td>0</td>\n",
       "    </tr>\n",
       "    <tr>\n",
       "      <th>100565</th>\n",
       "      <td>R_zTlbYwl8ijcujhn</td>\n",
       "      <td>6</td>\n",
       "      <td>34</td>\n",
       "      <td>0</td>\n",
       "      <td>0</td>\n",
       "      <td>0</td>\n",
       "      <td>0</td>\n",
       "      <td>0</td>\n",
       "    </tr>\n",
       "  </tbody>\n",
       "</table>\n",
       "<p>100566 rows × 8 columns</p>\n",
       "</div>"
      ],
      "text/plain": [
       "               ResponseId  round  tick  orderId  taskId  taskTicks  workerId  \\\n",
       "0       R_0uOsLe6BeLnUee5      1     1        1       1          2         0   \n",
       "1       R_0uOsLe6BeLnUee5      1     1        2       1          2         1   \n",
       "2       R_0uOsLe6BeLnUee5      1     1        0       0          0         0   \n",
       "3       R_0uOsLe6BeLnUee5      1     2        3       1          2         2   \n",
       "4       R_0uOsLe6BeLnUee5      1     2        0       0          0         0   \n",
       "...                   ...    ...   ...      ...     ...        ...       ...   \n",
       "100561  R_zTlbYwl8ijcujhn      6    33        0       0          0         0   \n",
       "100562  R_zTlbYwl8ijcujhn      6    33        0       0          0         0   \n",
       "100563  R_zTlbYwl8ijcujhn      6    34        4       3          2         1   \n",
       "100564  R_zTlbYwl8ijcujhn      6    34        0       0          0         0   \n",
       "100565  R_zTlbYwl8ijcujhn      6    34        0       0          0         0   \n",
       "\n",
       "        workerTicks  \n",
       "0                 0  \n",
       "1                 0  \n",
       "2                 0  \n",
       "3                 0  \n",
       "4                 0  \n",
       "...             ...  \n",
       "100561            0  \n",
       "100562            0  \n",
       "100563            0  \n",
       "100564            0  \n",
       "100565            0  \n",
       "\n",
       "[100566 rows x 8 columns]"
      ]
     },
     "execution_count": 131,
     "metadata": {},
     "output_type": "execute_result"
    }
   ],
   "source": [
    "action1"
   ]
  },
  {
   "cell_type": "code",
   "execution_count": 38,
   "id": "78c0daec",
   "metadata": {},
   "outputs": [],
   "source": [
    "a = ast.literal_eval(\"{'order_id': 1}\")"
   ]
  },
  {
   "cell_type": "code",
   "execution_count": 42,
   "id": "189af545",
   "metadata": {},
   "outputs": [
    {
     "data": {
      "text/plain": [
       "1"
      ]
     },
     "execution_count": 42,
     "metadata": {},
     "output_type": "execute_result"
    }
   ],
   "source": [
    "a[\"order_id\"]"
   ]
  },
  {
   "cell_type": "code",
   "execution_count": 39,
   "id": "3fb5673d",
   "metadata": {},
   "outputs": [
    {
     "ename": "TypeError",
     "evalue": "the JSON object must be str, bytes or bytearray, not dict",
     "output_type": "error",
     "traceback": [
      "\u001b[0;31m---------------------------------------------------------------------------\u001b[0m",
      "\u001b[0;31mTypeError\u001b[0m                                 Traceback (most recent call last)",
      "\u001b[0;32m<ipython-input-39-064b506db46c>\u001b[0m in \u001b[0;36m<module>\u001b[0;34m\u001b[0m\n\u001b[0;32m----> 1\u001b[0;31m \u001b[0mjson\u001b[0m\u001b[0;34m.\u001b[0m\u001b[0mloads\u001b[0m\u001b[0;34m(\u001b[0m\u001b[0ma\u001b[0m\u001b[0;34m)\u001b[0m\u001b[0;34m\u001b[0m\u001b[0;34m\u001b[0m\u001b[0m\n\u001b[0m",
      "\u001b[0;32m~/opt/anaconda3/lib/python3.8/json/__init__.py\u001b[0m in \u001b[0;36mloads\u001b[0;34m(s, cls, object_hook, parse_float, parse_int, parse_constant, object_pairs_hook, **kw)\u001b[0m\n\u001b[1;32m    339\u001b[0m     \u001b[0;32melse\u001b[0m\u001b[0;34m:\u001b[0m\u001b[0;34m\u001b[0m\u001b[0;34m\u001b[0m\u001b[0m\n\u001b[1;32m    340\u001b[0m         \u001b[0;32mif\u001b[0m \u001b[0;32mnot\u001b[0m \u001b[0misinstance\u001b[0m\u001b[0;34m(\u001b[0m\u001b[0ms\u001b[0m\u001b[0;34m,\u001b[0m \u001b[0;34m(\u001b[0m\u001b[0mbytes\u001b[0m\u001b[0;34m,\u001b[0m \u001b[0mbytearray\u001b[0m\u001b[0;34m)\u001b[0m\u001b[0;34m)\u001b[0m\u001b[0;34m:\u001b[0m\u001b[0;34m\u001b[0m\u001b[0;34m\u001b[0m\u001b[0m\n\u001b[0;32m--> 341\u001b[0;31m             raise TypeError(f'the JSON object must be str, bytes or bytearray, '\n\u001b[0m\u001b[1;32m    342\u001b[0m                             f'not {s.__class__.__name__}')\n\u001b[1;32m    343\u001b[0m         \u001b[0ms\u001b[0m \u001b[0;34m=\u001b[0m \u001b[0ms\u001b[0m\u001b[0;34m.\u001b[0m\u001b[0mdecode\u001b[0m\u001b[0;34m(\u001b[0m\u001b[0mdetect_encoding\u001b[0m\u001b[0;34m(\u001b[0m\u001b[0ms\u001b[0m\u001b[0;34m)\u001b[0m\u001b[0;34m,\u001b[0m \u001b[0;34m'surrogatepass'\u001b[0m\u001b[0;34m)\u001b[0m\u001b[0;34m\u001b[0m\u001b[0;34m\u001b[0m\u001b[0m\n",
      "\u001b[0;31mTypeError\u001b[0m: the JSON object must be str, bytes or bytearray, not dict"
     ]
    }
   ],
   "source": [
    "json.loads(a)"
   ]
  },
  {
   "cell_type": "code",
   "execution_count": null,
   "id": "2c4d9a83",
   "metadata": {},
   "outputs": [],
   "source": []
  },
  {
   "cell_type": "code",
   "execution_count": null,
   "id": "c66bd5cf",
   "metadata": {},
   "outputs": [],
   "source": []
  }
 ],
 "metadata": {
  "kernelspec": {
   "display_name": "Python 3",
   "language": "python",
   "name": "python3"
  },
  "language_info": {
   "codemirror_mode": {
    "name": "ipython",
    "version": 3
   },
   "file_extension": ".py",
   "mimetype": "text/x-python",
   "name": "python",
   "nbconvert_exporter": "python",
   "pygments_lexer": "ipython3",
   "version": "3.8.8"
  }
 },
 "nbformat": 4,
 "nbformat_minor": 5
}
